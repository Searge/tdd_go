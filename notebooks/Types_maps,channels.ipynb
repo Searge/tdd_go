{
 "cells": [
  {
   "cell_type": "markdown",
   "metadata": {},
   "source": [
    "## Types | Maps and Channel types"
   ]
  },
  {
   "cell_type": "markdown",
   "metadata": {},
   "source": [
    "### Map types\n",
    "\n",
    "A map is an unordered group of elements of one type, called the element type, indexed by a set of unique _keys_ of another type, called the key type. The value of an uninitialized map is `nil`.\n",
    "\n",
    "```ebnf\n",
    "MapType     = \"map\" \"[\" KeyType \"]\" ElementType .\n",
    "KeyType     = Type .\n",
    "```\n",
    "\n",
    "The [comparison operators](https://go.dev/ref/spec#Comparison_operators) `==` and `!=` must be fully defined for operands of the key type; thus the key type must not be a function, map, or slice. If the key type is an interface type, these comparison operators must be defined for the dynamic key values; failure will cause a [run-time panic](https://go.dev/ref/spec#Run_time_panics).\n",
    "\n",
    "```go\n",
    "map[string]int\n",
    "map[*T]struct{ x, y float64 }\n",
    "map[string]interface{}\n",
    "```\n",
    "\n",
    "The number of map elements is called its length. For a map `m`, it can be discovered using the built-in function [`len`](https://go.dev/ref/spec#Length_and_capacity) and may change during execution. Elements may be added during execution using [assignments](https://go.dev/ref/spec#Assignment_statements) and retrieved with [index expressions](https://go.dev/ref/spec#Index_expressions); they may be removed with the [`delete`](https://go.dev/ref/spec#Deletion_of_map_elements) and [`clear`](https://go.dev/ref/spec#Clear) built-in function.\n",
    "\n",
    "A new, empty map value is made using the built-in function [`make`](https://go.dev/ref/spec#Making_slices_maps_and_channels), which takes the map type and an optional capacity hint as arguments:\n",
    "\n",
    "```go\n",
    "make(map[string]int)\n",
    "make(map[string]int, 100)\n",
    "```\n",
    "\n",
    "The initial capacity does not bound its size: maps grow to accommodate the number of items stored in them, with the exception of `nil` maps. A `nil` map is equivalent to an empty map except that no elements may be added."
   ]
  },
  {
   "cell_type": "markdown",
   "metadata": {},
   "source": [
    "### Channel types\n",
    "\n",
    "A channel provides a mechanism for [concurrently executing functions](https://go.dev/ref/spec#Go_statements) to communicate by [sending](https://go.dev/ref/spec#Send_statements) and [receiving](https://go.dev/ref/spec#Receive_operator) values of a specified element type. The value of an uninitialized channel is `nil`.\n",
    "\n",
    "```ebnf\n",
    "ChannelType = ( \"chan\" | \"chan\" \"<-\" | \"<-\" \"chan\" ) ElementType .\n",
    "```\n",
    "\n",
    "The optional `<-` operator specifies the channel _direction_, _send_ or _receive_. If a direction is given, the channel is _directional_, otherwise it is _bidirectional_. A channel may be constrained only to send or only to receive by [assignment](https://go.dev/ref/spec#Assignment_statements) or explicit [conversion](https://go.dev/ref/spec#Conversions).\n",
    "\n",
    "```go\n",
    "chan T          // can be used to send and receive values of type T\n",
    "chan<- float64  // can only be used to send float64s\n",
    "<-chan int      // can only be used to receive ints\n",
    "```\n",
    "\n",
    "The `<-` operator associates with the leftmost `chan` possible:\n",
    "\n",
    "```go\n",
    "chan<- chan int    // same as chan<- (chan int)\n",
    "chan<- <-chan int  // same as chan<- (<-chan int)\n",
    "<-chan <-chan int  // same as <-chan (<-chan int)\n",
    "chan (<-chan int)\n",
    "```\n",
    "\n",
    "A new, initialized channel value can be made using the built-in function [`make`](https://go.dev/ref/spec#Making_slices_maps_and_channels), which takes the channel type and an optional _capacity_ as arguments:\n",
    "\n",
    "```go\n",
    "make(chan int, 100)\n",
    "```\n",
    "\n",
    "The capacity, in number of elements, sets the size of the buffer in the channel. If the capacity is zero or absent, the channel is unbuffered and communication succeeds only when both a sender and receiver are ready. Otherwise, the channel is buffered and communication succeeds without blocking if the buffer is not full (sends) or not empty (receives). A `nil` channel is never ready for communication.\n",
    "\n",
    "A channel may be closed with the built-in function [`close`](https://go.dev/ref/spec#Close). The multi-valued assignment form of the [receive operator](https://go.dev/ref/spec#Receive_operator) reports whether a received value was sent before the channel was closed.\n",
    "\n",
    "A single channel may be used in [send statements](https://go.dev/ref/spec#Send_statements), [receive operations](https://go.dev/ref/spec#Receive_operator), and calls to the built-in functions [`cap`](https://go.dev/ref/spec#Length_and_capacity) and [`len`](https://go.dev/ref/spec#Length_and_capacity) by any number of goroutines without further synchronization. Channels act as first-in-first-out queues. For example, if one goroutine sends values on a channel and a second goroutine receives them, the values are received in the order sent."
   ]
  }
 ],
 "metadata": {
  "language_info": {
   "name": "python"
  }
 },
 "nbformat": 4,
 "nbformat_minor": 2
}
