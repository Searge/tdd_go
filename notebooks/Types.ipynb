{
 "cells": [
  {
   "cell_type": "markdown",
   "metadata": {},
   "source": [
    "## Types\n",
    "\n",
    "A type determines a set of values together with operations and methods specific to those values. A type may be denoted by a _type name_, if it has one, which must be followed by [type arguments](https://go.dev/ref/spec#Instantiations) if the type is generic. A type may also be specified using a _type literal_, which composes a type from existing types.\n",
    "\n",
    "```ebnf\n",
    "Type      = TypeName [ TypeArgs ] | TypeLit | \"(\" Type \")\" .\n",
    "TypeName  = identifier | QualifiedIdent .\n",
    "TypeArgs  = \"[\" TypeList [ \",\" ] \"]\" .\n",
    "TypeList  = Type { \",\" Type } .\n",
    "TypeLit   = ArrayType | StructType | PointerType | FunctionType | InterfaceType |\n",
    "            SliceType | MapType | ChannelType .\n",
    "```\n",
    "\n",
    "The language [predeclares](https://go.dev/ref/spec#Predeclared_identifiers) certain type names. Others are introduced with [type declarations](https://go.dev/ref/spec#Type_declarations) or [type parameter lists](https://go.dev/ref/spec#Type_parameter_declarations). _Composite types_—array, struct, pointer, function, interface, slice, map, and channel types—may be constructed using type literals.\n",
    "\n",
    "Predeclared types, defined types, and type parameters are called _named types_. An alias denotes a named type if the type given in the alias declaration is a named type."
   ]
  },
  {
   "cell_type": "markdown",
   "metadata": {},
   "source": [
    "### Boolean types\n",
    "\n",
    "A _boolean type_ represents the set of Boolean truth values denoted by the predeclared constants `true` and `false`. The predeclared boolean type is `bool`; it is a [defined type](https://go.dev/ref/spec#Type_definitions).\n",
    "### Numeric types\n",
    "\n",
    "An _integer_, _floating-point_, or _complex_ type represents the set of integer, floating-point, or complex values, respectively. They are collectively called _numeric types_.\n",
    "\n",
    "### String types\n",
    "\n",
    "A _string type_ represents the set of string values. A string value is a (possibly empty) sequence of bytes. The number of bytes is called the length of the string and is never negative. Strings are immutable: once created, it is impossible to change the contents of a string. The predeclared string type is `string`; it is a [defined type](https://go.dev/ref/spec#Type_definitions)."
   ]
  },
  {
   "cell_type": "markdown",
   "metadata": {},
   "source": [
    "### Array types\n",
    "\n",
    "An array is a numbered sequence of elements of a single type, called the element type. The number of elements is called the length of the array and is never negative.\n",
    "\n",
    "```ebnf\n",
    "ArrayType   = \"[\" ArrayLength \"]\" ElementType .\n",
    "ArrayLength = Expression .\n",
    "ElementType = Type .\n",
    "```\n",
    "\n",
    "The length is part of the array's type; it must evaluate to a non-negative [constant](https://go.dev/ref/spec#Constants) [representable](https://go.dev/ref/spec#Representability) by a value of type `int`. The length of array `a` can be discovered using the built-in function [`len`](https://go.dev/ref/spec#Length_and_capacity). The elements can be addressed by integer [indices](https://go.dev/ref/spec#Index_expressions) 0 through `len(a)-1`. Array types are always one-dimensional but may be composed to form multi-dimensional types.\n",
    "\n",
    "### Slice types\n",
    "\n",
    "A slice is a descriptor for a contiguous segment of an _underlying array_ and provides access to a numbered sequence of elements from that array. A slice type denotes the set of all slices of arrays of its element type. The number of elements is called the length of the slice and is never negative. The value of an uninitialized slice is `nil`.\n",
    "\n",
    "```ebnf\n",
    "SliceType = \"[\" \"]\" ElementType .\n",
    "```\n",
    "\n",
    "The length of a slice `s` can be discovered by the built-in function [`len`](https://go.dev/ref/spec#Length_and_capacity); unlike with arrays it may change during execution. The elements can be addressed by integer [indices](https://go.dev/ref/spec#Index_expressions) 0 through `len(s)-1`. The slice index of a given element may be less than the index of the same element in the underlying array."
   ]
  },
  {
   "cell_type": "code",
   "execution_count": null,
   "metadata": {},
   "outputs": [],
   "source": []
  }
 ],
 "metadata": {
  "language_info": {
   "name": "python"
  }
 },
 "nbformat": 4,
 "nbformat_minor": 2
}
