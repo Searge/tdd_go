{
 "cells": [
  {
   "cell_type": "markdown",
   "metadata": {},
   "source": [
    "# Lexical elements\n",
    "\n",
    "- https://go.dev/ref/spec#Lexical_elements\n",
    "- Nice [Go Cheat Sheet](https://github.com/a8m/golang-cheat-sheet?tab=readme-ov-file#go-cheat-sheet)"
   ]
  },
  {
   "cell_type": "code",
   "execution_count": 1,
   "metadata": {},
   "outputs": [],
   "source": [
    "import \"fmt\""
   ]
  },
  {
   "cell_type": "markdown",
   "metadata": {},
   "source": [
    "## Tokens\n",
    "\n",
    "Tokens form the vocabulary of the Go language. There are four classes: identifiers, keywords, operators and punctuation, and literals. White space, formed from spaces (U+0020), horizontal tabs (U+0009), carriage returns (U+000D), and newlines (U+000A), is ignored except as it separates tokens that would otherwise combine into a single token. Also, a newline or end of file may trigger the insertion of a semicolon. While breaking the input into tokens, the next token is the longest sequence of characters that form a valid token.\n",
    "\n",
    "### Semicolons\n",
    "\n",
    "The formal syntax uses semicolons `\";\"` as terminators in a number of productions. Go programs may omit most of these semicolons using the following two rules:\n",
    "\n",
    "1. When the input is broken into tokens, a semicolon is automatically inserted into the token stream immediately after a line's final token if that token is\n",
    "    - an [identifier](https://go.dev/ref/spec#Identifiers)\n",
    "    - an [integer](https://go.dev/ref/spec#Integer_literals), [floating-point](https://go.dev/ref/spec#Floating-point_literals), [imaginary](https://go.dev/ref/spec#Imaginary_literals), [rune](https://go.dev/ref/spec#Rune_literals), or [string](https://go.dev/ref/spec#String_literals) literal\n",
    "    - one of the [keywords](https://go.dev/ref/spec#Keywords) `break`, `continue`, `fallthrough`, or `return`\n",
    "    - one of the [operators and punctuation](https://go.dev/ref/spec#Operators_and_punctuation) `++`, `--`, `)`, `]`, or `}`\n",
    "2. To allow complex statements to occupy a single line, a semicolon may be omitted before a closing `\")\"` or `\"}\"`.\n",
    "\n",
    "### Keywords\n",
    "\n",
    "The following keywords are reserved and may not be used as identifiers.\n",
    "\n",
    "```go\n",
    "break        default      func         interface    select\n",
    "case         defer        go           map          struct\n",
    "chan         else         goto         package      switch\n",
    "const        fallthrough  if           range        type\n",
    "continue     for          import       return       var\n",
    "```\n",
    "### Operators and punctuation[¶](https://go.dev/ref/spec#Operators_and_punctuation)\n",
    "\n",
    "The following character sequences represent [operators](https://go.dev/ref/spec#Operators) (including [assignment operators](https://go.dev/ref/spec#Assignment_statements)) and punctuation [[Go 1.18](https://go.dev/ref/spec#Go_1.18)]:\n",
    "\n",
    "```go\n",
    "+    &     +=    &=     &&    ==    !=    (    )\n",
    "-    |     -=    |=     ||    <     <=    [    ]\n",
    "*    ^     *=    ^=     <-    >     >=    {    }\n",
    "/    <<    /=    <<=    ++    =     :=    ,    ;\n",
    "%    >>    %=    >>=    --    !     ...   .    :\n",
    "     &^          &^=          ~\n",
    "```"
   ]
  },
  {
   "cell_type": "code",
   "execution_count": 13,
   "metadata": {},
   "outputs": [],
   "source": [
    "// iota can be used for incrementing numbers, starting from 0\n",
    "const (\n",
    "  _ = iota\n",
    "  a\n",
    "  b\n",
    "  c = 1 << iota\n",
    "  d\n",
    "  imaginary_lit complex64 = 1.e+0i\n",
    ")"
   ]
  },
  {
   "cell_type": "code",
   "execution_count": 14,
   "metadata": {},
   "outputs": [
    {
     "name": "stdout",
     "output_type": "stream",
     "text": [
      "1 2\n",
      "8 16\n",
      "(0+1i)\n"
     ]
    }
   ],
   "source": [
    "func main() {\n",
    "  fmt.Println(a, b) // 1 2 (0 is skipped)\n",
    "  fmt.Println(c, d) // 8 16 (2^3, 2^4)\n",
    "  fmt.Println(imaginary_lit)\n",
    "}"
   ]
  },
  {
   "cell_type": "markdown",
   "metadata": {},
   "source": [
    "## Rune literals\n",
    "\n",
    "A rune literal represents a rune constant, an integer value identifying a Unicode code point. A rune literal is expressed as one or more characters enclosed in single quotes, as in 'x' or '\\n'. Within the quotes, any character may appear except newline and unescaped single quote. A single quoted character represents the Unicode value of the character itself, while multi-character sequences beginning with a backslash encode values in various formats. "
   ]
  },
  {
   "cell_type": "code",
   "execution_count": 5,
   "metadata": {},
   "outputs": [
    {
     "name": "stdout",
     "output_type": "stream",
     "text": [
      "Letter: 228\n",
      "Heart: 9829\n",
      "Newline: 10\n"
     ]
    }
   ],
   "source": [
    "// @title: Rune literals\n",
    "func main() {\n",
    "  // Simple rune literal for the letter 'a'\n",
    "  var letter rune = 'ä'\n",
    "  fmt.Println(\"Letter:\", letter)\n",
    "\n",
    "  // Rune literal for the heart symbol (Unicode U+2665)\n",
    "  var heart rune = '\\u2665'\n",
    "  fmt.Println(\"Heart:\", heart)\n",
    "\n",
    "  // Rune literal for the newline character (\\n)\n",
    "  var newline rune = '\\n'\n",
    "  fmt.Println(\"Newline:\", newline)\n",
    "}"
   ]
  }
 ],
 "metadata": {
  "kernelspec": {
   "display_name": "Go (gonb)",
   "language": "go",
   "name": "gonb"
  },
  "language_info": {
   "codemirror_mode": "",
   "file_extension": ".go",
   "mimetype": "",
   "name": "go",
   "nbconvert_exporter": "",
   "pygments_lexer": "",
   "version": "go1.23.1"
  }
 },
 "nbformat": 4,
 "nbformat_minor": 2
}
