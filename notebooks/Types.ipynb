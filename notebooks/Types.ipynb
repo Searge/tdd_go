{
 "cells": [
  {
   "cell_type": "markdown",
   "metadata": {},
   "source": [
    "## Types\n",
    "\n",
    "A type determines a set of values together with operations and methods specific to those values. A type may be denoted by a _type name_, if it has one, which must be followed by [type arguments](https://go.dev/ref/spec#Instantiations) if the type is generic. A type may also be specified using a _type literal_, which composes a type from existing types.\n",
    "\n",
    "```ebnf\n",
    "Type      = TypeName [ TypeArgs ] | TypeLit | \"(\" Type \")\" .\n",
    "TypeName  = identifier | QualifiedIdent .\n",
    "TypeArgs  = \"[\" TypeList [ \",\" ] \"]\" .\n",
    "TypeList  = Type { \",\" Type } .\n",
    "TypeLit   = ArrayType | StructType | PointerType | FunctionType | InterfaceType |\n",
    "            SliceType | MapType | ChannelType .\n",
    "```\n",
    "\n",
    "The language [predeclares](https://go.dev/ref/spec#Predeclared_identifiers) certain type names. Others are introduced with [type declarations](https://go.dev/ref/spec#Type_declarations) or [type parameter lists](https://go.dev/ref/spec#Type_parameter_declarations). _Composite types_—array, struct, pointer, function, interface, slice, map, and channel types—may be constructed using type literals.\n",
    "\n",
    "Predeclared types, defined types, and type parameters are called _named types_. An alias denotes a named type if the type given in the alias declaration is a named type."
   ]
  },
  {
   "cell_type": "code",
   "execution_count": null,
   "metadata": {},
   "outputs": [],
   "source": []
  }
 ],
 "metadata": {
  "language_info": {
   "name": "python"
  }
 },
 "nbformat": 4,
 "nbformat_minor": 2
}
