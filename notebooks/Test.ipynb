{
 "cells": [
  {
   "cell_type": "code",
   "execution_count": 7,
   "metadata": {},
   "outputs": [
    {
     "name": "stdout",
     "output_type": "stream",
     "text": [
      "Woof!\n"
     ]
    }
   ],
   "source": [
    "import (\n",
    "\t\"fmt\"\n",
    ")\n",
    "\n",
    "// Animal represents any animal on Earth.\n",
    "type Animal interface {\n",
    "\tNoise() string\n",
    "}\n",
    "\n",
    "// Dog represents an animal that is often a pet.\n",
    "type Dog struct{}\n",
    "\n",
    "// Noise returns the noise a Dog makes.\n",
    "func (Dog) Noise() string {\n",
    "\treturn \"Woof!\"\n",
    "}\n",
    "\n",
    "// Print noises prints each animal's noise.\n",
    "func PrintNoises(as []Animal) {\n",
    "\tfor _, a := range as {\n",
    "\t\tfmt.Println(a.Noise())\n",
    "\t}\n",
    "}\n",
    "\n",
    "// Static type check that Dog is an Animal.\n",
    "var _ Animal = Dog{}\n",
    "\n",
    "// Bad static type check that []Dog is not equivalent to a []Animal.\n",
    "// var _ []Animal = []Dog{}\n",
    "\n",
    "func main() {\n",
    "\t// Program 1: This compiles and runs successfully.\n",
    "\tanimals := []Animal{Dog{}}\n",
    "\tPrintNoises(animals)\n",
    "\n",
    "\t// Program 2: This does not compile and run successfully.\n",
    "\t// dogs := []Dog{Dog{}}\n",
    "\t// PrintNoises(dogs)\n",
    "\n",
    "\t// Program 3: This fixes the compile and run issues in program 2.\n",
    "\t// dogs := []Dog{Dog{}}\n",
    "\n",
    "\t// New logic: convert the slice of dogs to a slice of animals\n",
    "\t// animals := []Animal{}\n",
    "\t// for _, d := range dogs {\n",
    "\t//\tanimals = append(animals, Animal(d))\n",
    "\t// }\n",
    "\t// PrintNoises(animals)\n",
    "}"
   ]
  }
 ],
 "metadata": {
  "kernelspec": {
   "display_name": "Go (gonb)",
   "language": "go",
   "name": "gonb"
  },
  "language_info": {
   "codemirror_mode": "",
   "file_extension": ".go",
   "mimetype": "",
   "name": "go",
   "nbconvert_exporter": "",
   "pygments_lexer": "",
   "version": "go1.23.1"
  }
 },
 "nbformat": 4,
 "nbformat_minor": 2
}
