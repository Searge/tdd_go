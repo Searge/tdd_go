{
 "cells": [
  {
   "cell_type": "markdown",
   "metadata": {},
   "source": [
    "# Lexical elements\n",
    "\n",
    "- https://go.dev/ref/spec#Lexical_elements\n",
    "- Nice [Go Cheat Sheet](https://github.com/a8m/golang-cheat-sheet?tab=readme-ov-file#go-cheat-sheet)\n",
    "\n",
    "## Notation\n",
    "\n",
    "The syntax is specified using a [variant](https://en.wikipedia.org/wiki/Wirth_syntax_notation) of Extended Backus-Naur Form (EBNF):\n",
    "\n",
    "```ebnf\n",
    "Syntax      = { Production } .\n",
    "Production  = production_name \"=\" [ Expression ] \".\" .\n",
    "Expression  = Term { \"|\" Term } .\n",
    "Term        = Factor { Factor } .\n",
    "Factor      = production_name | token [ \"…\" token ] | Group | Option | Repetition .\n",
    "Group       = \"(\" Expression \")\" .\n",
    "Option      = \"[\" Expression \"]\" .\n",
    "Repetition  = \"{\" Expression \"}\" .\n",
    "```\n",
    "Productions are expressions constructed from terms and the following operators, in increasing precedence:\n",
    "\n",
    "```ebnf\n",
    "|   alternation\n",
    "()  grouping\n",
    "[]  option (0 or 1 times)\n",
    "{}  repetition (0 to n times)\n",
    "```\n",
    "Lowercase production names are used to identify lexical (terminal) tokens. Non-terminals are in CamelCase. Lexical tokens are enclosed in double quotes `\"\"` or back quotes ` `` `.\n",
    "\n",
    "The form `a … b` represents the set of characters from `a` through `b` as alternatives. The horizontal ellipsis `…` is also used elsewhere in the spec to informally denote various enumerations or code snippets that are not further specified. The character `…` (as opposed to the three characters `...`) is not a token of the Go language.\n",
    "\n",
    "A link of the form [[Go 1.xx](https://go.dev/ref/spec#Language_versions)] indicates that a described language feature (or some aspect of it) was changed or added with language version 1.xx and thus requires at minimum that language version to build. For details, see the [linked section](https://go.dev/ref/spec#Language_versions) in the [appendix](https://go.dev/ref/spec#Appendix)."
   ]
  },
  {
   "cell_type": "code",
   "execution_count": 16,
   "metadata": {},
   "outputs": [],
   "source": [
    "import \"fmt\""
   ]
  },
  {
   "cell_type": "markdown",
   "metadata": {},
   "source": [
    "## Tokens\n",
    "\n",
    "Tokens form the vocabulary of the Go language. There are four classes: identifiers, keywords, operators and punctuation, and literals. White space, formed from spaces (U+0020), horizontal tabs (U+0009), carriage returns (U+000D), and newlines (U+000A), is ignored except as it separates tokens that would otherwise combine into a single token. Also, a newline or end of file may trigger the insertion of a semicolon. While breaking the input into tokens, the next token is the longest sequence of characters that form a valid token.\n",
    "\n",
    "### Identifiers\n",
    "\n",
    "Identifiers name program entities such as variables and types. An identifier is a sequence of one or more letters and digits. The first character in an identifier must be a letter.\n",
    "\n",
    "```go\n",
    "identifier = letter { letter | unicode_digit } .\n",
    "```\n",
    "\n",
    "```txt\n",
    "a\n",
    "_x9\n",
    "ThisVariableIsExported\n",
    "αβ\n",
    "```\n",
    "\n",
    "### Semicolons\n",
    "\n",
    "The formal syntax uses semicolons `\";\"` as terminators in a number of productions. Go programs may omit most of these semicolons using the following two rules:\n",
    "\n",
    "1. When the input is broken into tokens, a semicolon is automatically inserted into the token stream immediately after a line's final token if that token is\n",
    "    - an [identifier](https://go.dev/ref/spec#Identifiers)\n",
    "    - an [integer](https://go.dev/ref/spec#Integer_literals), [floating-point](https://go.dev/ref/spec#Floating-point_literals), [imaginary](https://go.dev/ref/spec#Imaginary_literals), [rune](https://go.dev/ref/spec#Rune_literals), or [string](https://go.dev/ref/spec#String_literals) literal\n",
    "    - one of the [keywords](https://go.dev/ref/spec#Keywords) `break`, `continue`, `fallthrough`, or `return`\n",
    "    - one of the [operators and punctuation](https://go.dev/ref/spec#Operators_and_punctuation) `++`, `--`, `)`, `]`, or `}`\n",
    "2. To allow complex statements to occupy a single line, a semicolon may be omitted before a closing `\")\"` or `\"}\"`.\n",
    "\n",
    "### Keywords\n",
    "\n",
    "The following keywords are reserved and may not be used as identifiers.\n",
    "\n",
    "```go\n",
    "break        default      func         interface    select\n",
    "case         defer        go           map          struct\n",
    "chan         else         goto         package      switch\n",
    "const        fallthrough  if           range        type\n",
    "continue     for          import       return       var\n",
    "```\n",
    "### Operators and punctuation[¶](https://go.dev/ref/spec#Operators_and_punctuation)\n",
    "\n",
    "The following character sequences represent [operators](https://go.dev/ref/spec#Operators) (including [assignment operators](https://go.dev/ref/spec#Assignment_statements)) and punctuation [[Go 1.18](https://go.dev/ref/spec#Go_1.18)]:\n",
    "\n",
    "```go\n",
    "+    &     +=    &=     &&    ==    !=    (    )\n",
    "-    |     -=    |=     ||    <     <=    [    ]\n",
    "*    ^     *=    ^=     <-    >     >=    {    }\n",
    "/    <<    /=    <<=    ++    =     :=    ,    ;\n",
    "%    >>    %=    >>=    --    !     ...   .    :\n",
    "     &^          &^=          ~\n",
    "```"
   ]
  },
  {
   "cell_type": "markdown",
   "metadata": {},
   "source": [
    "### Rune literals\n",
    "\n",
    "A rune literal represents a rune constant, an integer value identifying a Unicode code point. A rune literal is expressed as one or more characters enclosed in single quotes, as in 'x' or '\\n'. Within the quotes, any character may appear except newline and unescaped single quote. A single quoted character represents the Unicode value of the character itself, while multi-character sequences beginning with a backslash encode values in various formats. "
   ]
  },
  {
   "cell_type": "code",
   "execution_count": 5,
   "metadata": {},
   "outputs": [
    {
     "name": "stdout",
     "output_type": "stream",
     "text": [
      "Letter: 228\n",
      "Heart: 9829\n",
      "Newline: 10\n"
     ]
    }
   ],
   "source": [
    "// @title: Rune literals\n",
    "func main() {\n",
    "  // Simple rune literal for the letter 'a'\n",
    "  var letter rune = 'ä'\n",
    "  fmt.Println(\"Letter:\", letter)\n",
    "\n",
    "  // Rune literal for the heart symbol (Unicode U+2665)\n",
    "  var heart rune = '\\u2665'\n",
    "  fmt.Println(\"Heart:\", heart)\n",
    "\n",
    "  // Rune literal for the newline character (\\n)\n",
    "  var newline rune = '\\n'\n",
    "  fmt.Println(\"Newline:\", newline)\n",
    "}"
   ]
  },
  {
   "cell_type": "markdown",
   "metadata": {},
   "source": [
    "## Constants\n",
    "\n",
    "There are boolean constants, rune constants, integer constants, floating-point constants, complex constants, and string constants. Rune, integer, floating-point, and complex constants are collectively called numeric constants.\n",
    "\n",
    "There are _boolean constants_, _rune constants_, _integer constants_, _floating-point constants_, _complex constants_, and _string constants_. Rune, integer, floating-point, and complex constants are collectively called _numeric constants_.\n",
    "\n",
    "A constant value is represented by a [rune](https://go.dev/ref/spec#Rune_literals), [integer](https://go.dev/ref/spec#Integer_literals), [floating-point](https://go.dev/ref/spec#Floating-point_literals), [imaginary](https://go.dev/ref/spec#Imaginary_literals), or [string](https://go.dev/ref/spec#String_literals) literal, an identifier denoting a constant, a [constant expression](https://go.dev/ref/spec#Constant_expressions), a [conversion](https://go.dev/ref/spec#Conversions) with a result that is a constant, or the result value of some built-in functions such as `min` or `max` applied to constant arguments, `unsafe.Sizeof` applied to [certain values](https://go.dev/ref/spec#Package_unsafe), `cap` or `len` applied to [some expressions](https://go.dev/ref/spec#Length_and_capacity), `real` and `imag` applied to a complex constant and `complex` applied to numeric constants. The boolean truth values are represented by the predeclared constants `true` and `false`. The predeclared identifier [iota](https://go.dev/ref/spec#Iota) denotes an integer constant.\n",
    "\n",
    "In general, complex constants are a form of [constant expression](https://go.dev/ref/spec#Constant_expressions) and are discussed in that section.\n",
    "\n",
    "Numeric constants represent exact values of arbitrary precision and do not overflow. Consequently, there are no constants denoting the IEEE 754 negative zero, infinity, and not-a-number values.\n",
    "\n",
    "Constants may be [typed](https://go.dev/ref/spec#Types) or _untyped_. Literal constants, `true`, `false`, `iota`, and certain [constant expressions](https://go.dev/ref/spec#Constant_expressions) containing only untyped constant operands are untyped."
   ]
  },
  {
   "cell_type": "code",
   "execution_count": 17,
   "metadata": {},
   "outputs": [],
   "source": [
    "// iota can be used for incrementing numbers, starting from 0\n",
    "const (\n",
    "  _ = iota\n",
    "  a\n",
    "  b\n",
    "  c = 1 << iota\n",
    "  d\n",
    "  imaginary_lit complex64 = 1.e+0i\n",
    "  e = 15 / 4           // b == 3     (untyped integer constant)\n",
    "  f = 1 << 3.0         // d == 8     (untyped integer constant)\n",
    "  k = 'w' + 1          // k == 'x'   (untyped rune constant)\n",
    "  Π float64 = 3/2.     // Π == 1.5   (type float64, 3/2. is float division)\n",
    "  Φ = iota*1i - 1/1i   //            (untyped complex constant)\n",
    ")"
   ]
  },
  {
   "cell_type": "code",
   "execution_count": 18,
   "metadata": {},
   "outputs": [
    {
     "name": "stdout",
     "output_type": "stream",
     "text": [
      "1 2\n",
      "8 16\n",
      "(0+1i)\n",
      "e = 3; f = 8; k = x; Π = 1.500000; Φ = (0.000000e+00+1.100000e+01i)"
     ]
    }
   ],
   "source": [
    "func main() {\n",
    "  fmt.Println(a, b) // 1 2 (0 is skipped)\n",
    "  fmt.Println(c, d) // 8 16 (2^3, 2^4)\n",
    "  fmt.Println(imaginary_lit)\n",
    "  fmt.Printf(\"e = %d; f = %d; k = %c; Π = %f; Φ = %e\", e, f, k, Π, Φ)\n",
    "}"
   ]
  },
  {
   "cell_type": "code",
   "execution_count": null,
   "metadata": {},
   "outputs": [
    {
     "name": "stdout",
     "output_type": "stream",
     "text": [
      "Sunday is 0; Partyday is 6 & numberOfDays = 7"
     ]
    }
   ],
   "source": [
    "const (\n",
    "\tSunday = iota\n",
    "\tMonday\n",
    "\tTuesday\n",
    "\tWednesday\n",
    "\tThursday\n",
    "\tFriday\n",
    "\tPartyday\n",
    "\tnumberOfDays  // this constant is not exported\n",
    ")\n",
    "\n",
    "func main()  {\n",
    "  fmt.Printf(\"Sunday is %d; Partyday is %d & numberOfDays = %d\", Sunday, Partyday, numberOfDays)\n",
    "}"
   ]
  },
  {
   "cell_type": "markdown",
   "metadata": {},
   "source": [
    "## Variables\n",
    "\n",
    "A variable is a storage location for holding a _value_. The set of permissible values is determined by the variable's _[type](https://go.dev/ref/spec#Types)_.\n",
    "\n",
    "A [variable declaration](https://go.dev/ref/spec#Variable_declarations) or, for function parameters and results, the signature of a [function declaration](https://go.dev/ref/spec#Function_declarations) or [function literal](https://go.dev/ref/spec#Function_literals) reserves storage for a named variable. Calling the built-in function [`new`](https://go.dev/ref/spec#Allocation) or taking the address of a [composite literal](https://go.dev/ref/spec#Composite_literals) allocates storage for a variable at run time. Such an anonymous variable is referred to via a (possibly implicit) [pointer indirection](https://go.dev/ref/spec#Address_operators).\n",
    "\n",
    "_Structured_ variables of [array](https://go.dev/ref/spec#Array_types), [slice](https://go.dev/ref/spec#Slice_types), and [struct](https://go.dev/ref/spec#Struct_types) types have elements and fields that may be [addressed](https://go.dev/ref/spec#Address_operators) individually. Each such element acts like a variable.\n",
    "\n",
    "The _static type_ (or just _type_) of a variable is the type given in its declaration, the type provided in the `new` call or composite literal, or the type of an element of a structured variable. Variables of interface type also have a distinct _dynamic type_, which is the (non-interface) type of the value assigned to the variable at run time (unless the value is the predeclared identifier `nil`, which has no type). The dynamic type may vary during execution but values stored in interface variables are always [assignable](https://go.dev/ref/spec#Assignability) to the static type of the variable.\n",
    "\n",
    "```go\n",
    "var x interface{}  // x is nil and has static type interface{}\n",
    "var v *T           // v has value nil, static type *T\n",
    "x = 42             // x has value 42 and dynamic type int\n",
    "x = v              // x has value (*T)(nil) and dynamic type *T\n",
    "```\n",
    "\n",
    "A variable's value is retrieved by referring to the variable in an [expression](https://go.dev/ref/spec#Expressions); it is the most recent value [assigned](https://go.dev/ref/spec#Assignment_statements) to the variable. If a variable has not yet been assigned a value, its value is the [zero value](https://go.dev/ref/spec#The_zero_value) for its type."
   ]
  }
 ],
 "metadata": {
  "kernelspec": {
   "display_name": "Go (gonb)",
   "language": "go",
   "name": "gonb"
  },
  "language_info": {
   "codemirror_mode": "",
   "file_extension": ".go",
   "mimetype": "",
   "name": "go",
   "nbconvert_exporter": "",
   "pygments_lexer": "",
   "version": "go1.23.1"
  }
 },
 "nbformat": 4,
 "nbformat_minor": 2
}
