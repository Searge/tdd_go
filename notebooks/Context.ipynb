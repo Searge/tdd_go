{
 "cells": [
  {
   "cell_type": "markdown",
   "metadata": {},
   "source": [
    "# Context package\n"
   ]
  },
  {
   "cell_type": "code",
   "execution_count": 1,
   "metadata": {},
   "outputs": [],
   "source": [
    "// @title Import packages\n",
    "import (\n",
    "  \"context\"\n",
    "  \"fmt\"\n",
    "  \"log\"\n",
    "  \"time\"\n",
    ")"
   ]
  },
  {
   "cell_type": "code",
   "execution_count": null,
   "metadata": {},
   "outputs": [],
   "source": [
    "func fetchUserData(ctx context.Context, iserID int) (int, error) {\n",
    "  val, err := fetchThirdPartyStuffWhichCanBeSlow()\n",
    "  if err != nil {\n",
    "    return 0, err\n",
    "  }\n",
    "\n",
    "  return val, nil\n",
    "}\n",
    "\n",
    "func fetchThirdPartyStuffWhichCanBeSlow() (int, error) {\n",
    "  time.Sleep(time.Millisecond * 500)\n",
    "\n",
    "  return 666, nil\n",
    "}\n"
   ]
  },
  {
   "cell_type": "code",
   "execution_count": 4,
   "metadata": {},
   "outputs": [
    {
     "name": "stdout",
     "output_type": "stream",
     "text": [
      "result:  666\n",
      "took:  500.704959ms\n"
     ]
    }
   ],
   "source": [
    "func main() {\n",
    "  start := time.Now()\n",
    "\n",
    "  ctx := context.Background()\n",
    "  userID := 10\n",
    "  val, err := fetchUserData(ctx, userID)\n",
    "  if err != nil {\n",
    "    log.Fatal(err)\n",
    "  }\n",
    "\n",
    "  fmt.Println(\"result: \", val)\n",
    "  fmt.Println(\"took: \", time.Since(start))\n",
    "}\n"
   ]
  }
 ],
 "metadata": {
  "kernelspec": {
   "display_name": "Go (gonb)",
   "language": "go",
   "name": "gonb"
  },
  "language_info": {
   "codemirror_mode": "",
   "file_extension": ".go",
   "mimetype": "",
   "name": "go",
   "nbconvert_exporter": "",
   "pygments_lexer": "",
   "version": "go1.23.1"
  }
 },
 "nbformat": 4,
 "nbformat_minor": 2
}
