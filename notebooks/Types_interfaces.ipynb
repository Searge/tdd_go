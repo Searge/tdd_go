{
 "cells": [
  {
   "cell_type": "markdown",
   "metadata": {},
   "source": [
    "## Types | Interfaces"
   ]
  },
  {
   "cell_type": "markdown",
   "metadata": {},
   "source": [
    "### Interface types\n",
    "\n",
    "An interface type defines a _type set_. A variable of interface type can store a value of any type that is in the type set of the interface. Such a type is said to [implement the interface](https://go.dev/ref/spec#Implementing_an_interface). The value of an uninitialized variable of interface type is `nil`.\n",
    "\n",
    "```ebnf\n",
    "InterfaceType  = \"interface\" \"{\" { InterfaceElem \";\" } \"}\" .\n",
    "InterfaceElem  = MethodElem | TypeElem .\n",
    "MethodElem     = MethodName Signature .\n",
    "MethodName     = identifier .\n",
    "TypeElem       = TypeTerm { \"|\" TypeTerm } .\n",
    "TypeTerm       = Type | UnderlyingType .\n",
    "UnderlyingType = \"~\" Type .\n",
    "```\n",
    "\n",
    "An interface type is specified by a list of _interface elements_. An interface element is either a _method_ or a _type element_, where a type element is a union of one or more _type terms_. A type term is either a single type or a single underlying type."
   ]
  },
  {
   "cell_type": "markdown",
   "metadata": {},
   "source": [
    "#### Basic interfaces\n",
    "\n",
    "In its most basic form an interface specifies a (possibly empty) list of methods. The type set defined by such an interface is the set of types which implement all of those methods, and the corresponding [method set](https://go.dev/ref/spec#Method_sets) consists exactly of the methods specified by the interface. Interfaces whose type sets can be defined entirely by a list of methods are called _basic interfaces._\n",
    "\n",
    "```go\n",
    "// A simple File interface.\n",
    "interface {\n",
    "\tRead([]byte) (int, error)\n",
    "\tWrite([]byte) (int, error)\n",
    "\tClose() error\n",
    "}\n",
    "```\n",
    "\n",
    "The name of each explicitly specified method must be [unique](https://go.dev/ref/spec#Uniqueness_of_identifiers) and not [blank](https://go.dev/ref/spec#Blank_identifier).\n",
    "\n",
    "```go\n",
    "interface {\n",
    "\tString() string\n",
    "\tString() string  // illegal: String not unique\n",
    "\t_(x int)         // illegal: method must have non-blank name\n",
    "}\n",
    "```\n",
    "\n",
    "More than one type may implement an interface. For instance, if two types `S1` and `S2` have the method set\n",
    "\n",
    "```go\n",
    "func (p T) Read(p []byte) (n int, err error)\n",
    "func (p T) Write(p []byte) (n int, err error)\n",
    "func (p T) Close() error\n",
    "```\n",
    "\n",
    "(where `T` stands for either `S1` or `S2`) then the `File` interface is implemented by both `S1` and `S2`, regardless of what other methods `S1` and `S2` may have or share.\n",
    "\n",
    "Every type that is a member of the type set of an interface implements that interface. Any given type may implement several distinct interfaces. For instance, all types implement the _empty interface_ which stands for the set of all (non-interface) types:\n",
    "\n",
    "```go\n",
    "interface{}\n",
    "```\n",
    "\n",
    "For convenience, the predeclared type `any` is an alias for the empty interface. [[Go 1.18](https://go.dev/ref/spec#Go_1.18)]\n",
    "\n",
    "Similarly, consider this interface specification, which appears within a [type declaration](https://go.dev/ref/spec#Type_declarations) to define an interface called `Locker`:\n",
    "\n",
    "```go\n",
    "type Locker interface {\n",
    "\tLock()\n",
    "\tUnlock()\n",
    "}\n",
    "```\n",
    "\n",
    "If `S1` and `S2` also implement\n",
    "\n",
    "```go\n",
    "func (p T) Lock() { … }\n",
    "func (p T) Unlock() { … }\n",
    "```\n",
    "\n",
    "they implement the `Locker` interface as well as the `File` interface."
   ]
  }
 ],
 "metadata": {
  "language_info": {
   "name": "python"
  }
 },
 "nbformat": 4,
 "nbformat_minor": 2
}
