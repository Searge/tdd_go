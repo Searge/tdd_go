{
 "cells": [
  {
   "cell_type": "markdown",
   "metadata": {},
   "source": [
    "# Workout around \"The Go Programming Language Specification\"\n",
    "\n",
    "- https://go.dev/ref/spec (the syntax is specified using a variant of [Extended Backus-Naur Form (EBNF)](https://en.wikipedia.org/wiki/Extended_Backus%E2%80%93Naur_form))\n",
    "- Nice [Go Cheat Sheet](https://github.com/a8m/golang-cheat-sheet?tab=readme-ov-file#go-cheat-sheet)"
   ]
  },
  {
   "cell_type": "code",
   "execution_count": 1,
   "metadata": {},
   "outputs": [],
   "source": [
    "import \"fmt\""
   ]
  },
  {
   "cell_type": "code",
   "execution_count": 13,
   "metadata": {},
   "outputs": [],
   "source": [
    "// iota can be used for incrementing numbers, starting from 0\n",
    "const (\n",
    "  _ = iota\n",
    "  a\n",
    "  b\n",
    "  c = 1 << iota\n",
    "  d\n",
    "  imaginary_lit complex64 = 1.e+0i\n",
    ")"
   ]
  },
  {
   "cell_type": "code",
   "execution_count": 14,
   "metadata": {},
   "outputs": [
    {
     "name": "stdout",
     "output_type": "stream",
     "text": [
      "1 2\n",
      "8 16\n",
      "(0+1i)\n"
     ]
    }
   ],
   "source": [
    "func main() {\n",
    "  fmt.Println(a, b) // 1 2 (0 is skipped)\n",
    "  fmt.Println(c, d) // 8 16 (2^3, 2^4)\n",
    "  fmt.Println(imaginary_lit)\n",
    "}"
   ]
  },
  {
   "cell_type": "code",
   "execution_count": 5,
   "metadata": {},
   "outputs": [
    {
     "name": "stdout",
     "output_type": "stream",
     "text": [
      "Letter: 228\n",
      "Heart: 9829\n",
      "Newline: 10\n"
     ]
    }
   ],
   "source": [
    "// @title: Rune literals\n",
    "func main() {\n",
    "  // Simple rune literal for the letter 'a'\n",
    "  var letter rune = 'ä'\n",
    "  fmt.Println(\"Letter:\", letter)\n",
    "\n",
    "  // Rune literal for the heart symbol (Unicode U+2665)\n",
    "  var heart rune = '\\u2665'\n",
    "  fmt.Println(\"Heart:\", heart)\n",
    "\n",
    "  // Rune literal for the newline character (\\n)\n",
    "  var newline rune = '\\n'\n",
    "  fmt.Println(\"Newline:\", newline)\n",
    "}"
   ]
  }
 ],
 "metadata": {
  "kernelspec": {
   "display_name": "Go (gonb)",
   "language": "go",
   "name": "gonb"
  },
  "language_info": {
   "codemirror_mode": "",
   "file_extension": ".go",
   "mimetype": "",
   "name": "go",
   "nbconvert_exporter": "",
   "pygments_lexer": "",
   "version": "go1.23.1"
  }
 },
 "nbformat": 4,
 "nbformat_minor": 2
}
