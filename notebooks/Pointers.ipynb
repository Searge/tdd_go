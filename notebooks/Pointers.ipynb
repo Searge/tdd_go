{
 "cells": [
  {
   "cell_type": "markdown",
   "metadata": {},
   "source": [
    "# Pointers\n",
    "\n"
   ]
  },
  {
   "cell_type": "code",
   "execution_count": 1,
   "metadata": {},
   "outputs": [],
   "source": [
    "import (\n",
    "  \"fmt\"\n",
    ")"
   ]
  },
  {
   "cell_type": "code",
   "execution_count": 2,
   "metadata": {},
   "outputs": [],
   "source": [
    "type User struct {\n",
    "\temail    string\n",
    "\tusername string\n",
    "\tage      int\n",
    "  file     []bytes\n",
    "}\n"
   ]
  },
  {
   "cell_type": "code",
   "execution_count": null,
   "metadata": {},
   "outputs": [],
   "source": [
    "// When we're going to use Pointers?\n",
    "// 1. When we need to update the state\n",
    "// 2. When we need to adjust the memory\n",
    "//   - 1 pointer == 8 bytes\n",
    "\n",
    "// Syntactic sugar for regular functions\n",
    "// But here, email is just a getter, we don't need a Pointer here\n",
    "func (u User) Email() string {\n",
    "  return u.email\n",
    "}\n",
    "\n",
    "// A regular function\n",
    "// func Email(user *User) string {\n",
    "//   return user.Email\n",
    "// }"
   ]
  },
  {
   "cell_type": "code",
   "execution_count": 7,
   "metadata": {},
   "outputs": [],
   "source": [
    "// If we will use it without Pointer it will return the value we set before\n",
    "// Not a new one\n",
    "func (u *User) updateEmail(email string) string {\n",
    "  u.email = email\n",
    "  return u.email\n",
    "}"
   ]
  },
  {
   "cell_type": "code",
   "execution_count": 8,
   "metadata": {},
   "outputs": [
    {
     "name": "stdout",
     "output_type": "stream",
     "text": [
      "thats@me.com\n"
     ]
    }
   ],
   "source": [
    "func main()  {\n",
    "  user := User{\n",
    "    email: \"me@me.com\",\n",
    "    username: \"me\",\n",
    "    age: 10,\n",
    "  }\n",
    "\n",
    "  user.updateEmail(\"thats@me.com\")\n",
    "  fmt.Println(user.Email())\n",
    "\n",
    "}"
   ]
  }
 ],
 "metadata": {
  "kernelspec": {
   "display_name": "Go (gonb)",
   "language": "go",
   "name": "gonb"
  },
  "language_info": {
   "codemirror_mode": "",
   "file_extension": ".go",
   "mimetype": "",
   "name": "go",
   "nbconvert_exporter": "",
   "pygments_lexer": "",
   "version": "go1.23.1"
  }
 },
 "nbformat": 4,
 "nbformat_minor": 2
}
