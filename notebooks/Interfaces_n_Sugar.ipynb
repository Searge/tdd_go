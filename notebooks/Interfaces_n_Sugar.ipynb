{
 "cells": [
  {
   "cell_type": "markdown",
   "metadata": {},
   "source": [
    "# Interfaces and Syntactic sugar for functions"
   ]
  },
  {
   "cell_type": "code",
   "execution_count": 1,
   "metadata": {},
   "outputs": [],
   "source": [
    "// Imports\n",
    "import (\n",
    "\t\"fmt\"\n",
    "\t\"math/rand\"\n",
    ")"
   ]
  },
  {
   "cell_type": "code",
   "execution_count": 16,
   "metadata": {},
   "outputs": [
    {
     "name": "stdout",
     "output_type": "stream",
     "text": [
      "Woof!\n"
     ]
    }
   ],
   "source": [
    "// Animal represents any animal on Earth.\n",
    "type Animal interface {\n",
    "\tNoise() string\n",
    "}\n",
    "\n",
    "// Dog represents an animal that is often a pet.\n",
    "type Dog struct{}\n",
    "\n",
    "// Noise returns the noise a Dog makes.\n",
    "func (Dog) Noise() string {\n",
    "\treturn \"Woof!\"\n",
    "}\n",
    "\n",
    "// Print noises prints each animal's noise.\n",
    "func PrintNoises(as []Animal) {\n",
    "\tfor _, a := range as {\n",
    "\t\tfmt.Println(a.Noise())\n",
    "\t}\n",
    "}\n",
    "\n",
    "// Static type check that Dog is an Animal.\n",
    "var _ Animal = Dog{}\n",
    "\n",
    "// Bad static type check that []Dog is not equivalent to a []Animal.\n",
    "// var _ []Animal = []Dog{}\n",
    "\n",
    "func main() {\n",
    "\t// Program 1: This compiles and runs successfully.\n",
    "\tanimals := []Animal{Dog{}}\n",
    "\tPrintNoises(animals)\n",
    "\n",
    "\t// Program 2: This does not compile and run successfully.\n",
    "\t// dogs := []Dog{Dog{}}\n",
    "\t// PrintNoises(dogs)\n",
    "\n",
    "\t// Program 3: This fixes the compile and run issues in program 2.\n",
    "\t// dogs := []Dog{Dog{}}\n",
    "\n",
    "\t// New logic: convert the slice of dogs to a slice of animals\n",
    "\t// animals := []Animal{}\n",
    "\t// for _, d := range dogs {\n",
    "\t//\tanimals = append(animals, Animal(d))\n",
    "\t// }\n",
    "\t// PrintNoises(animals)\n",
    "}"
   ]
  },
  {
   "cell_type": "code",
   "execution_count": 17,
   "metadata": {},
   "outputs": [
    {
     "name": "stdout",
     "output_type": "stream",
     "text": [
      "Playing Lethal weapon\n",
      "The score of the Lethal weapon is 8"
     ]
    }
   ],
   "source": [
    "// Interface for Movie methods\n",
    "type Action interface {\n",
    "  Play()\n",
    "  Stop()\n",
    "  GetScore()\n",
    "}\n",
    "\n",
    "// Basic Movie struct\n",
    "type Movie struct {\n",
    "  Name string\n",
    "  Score int\n",
    "}\n",
    "\n",
    "// Play method\n",
    "// Syntactic sugar for regular functions\n",
    "func (m *Movie) Play()  {\n",
    "  fmt.Printf(\"Playing %s\\n\", m.Name)\n",
    "}\n",
    "\n",
    "// Stop method\n",
    "// How method really looks like\n",
    "func Stop(m *Movie) {\n",
    "  fmt.Printf(\"Stoping %s\\n\", m.Name)\n",
    "}\n",
    "\n",
    "func (m *Movie) GetScore()  {\n",
    "  fmt.Printf(\"The score of the %s is %d\", m.Name, m.Score)\n",
    "}\n",
    "\n",
    "func main() {\n",
    "\tm := Movie{Name: \"Lethal weapon\", Score: 8}\n",
    "\tm.Play()\n",
    "  m.GetScore()\n",
    "\t// Corrected method call to use a function instead of a method.\n",
    "\t// GetScore(&m)\n",
    "}\n"
   ]
  },
  {
   "cell_type": "code",
   "execution_count": null,
   "metadata": {},
   "outputs": [
    {
     "name": "stdout",
     "output_type": "stream",
     "text": [
      "Random is kicking the ball 12\n",
      "Random is kicking the ball 10\n",
      "Random is kicking the ball 9\n",
      "Random is kicking the ball 16\n",
      "Random is kicking the ball 10\n",
      "Random is kicking the ball 11\n",
      "Random is kicking the ball 11\n",
      "Random is kicking the ball 5\n",
      "Random is kicking the ball 8\n",
      "Random is kicking the ball 2\n",
      "Messi is kicking the ball 100\n"
     ]
    }
   ],
   "source": [
    "type Player interface {\n",
    "\tKickBall() int\n",
    "\tName() string\n",
    "}\n",
    "\n",
    "type Messi struct {\n",
    "\tname    string\n",
    "\tstamina int\n",
    "\tpower   int\n",
    "\tSUI     int\n",
    "}\n",
    "\n",
    "func (f Messi) KickBall() int {\n",
    "\treturn f.stamina + f.power*f.SUI\n",
    "}\n",
    "\n",
    "func (f Messi) Name() string { return \"Messi\" }\n",
    "\n",
    "type FootbalPlayer struct {\n",
    "\tstamina int\n",
    "\tpower   int\n",
    "}\n",
    "\n",
    "func (f FootbalPlayer) KickBall() int {\n",
    "\treturn f.stamina + f.power\n",
    "}\n",
    "\n",
    "func (f FootbalPlayer) Name() string { return \"Random\" }\n",
    "\n",
    "func main() {\n",
    "\t// Actual usage of interfaces:\n",
    "\tteam := make([]Player, 11)\n",
    "\n",
    "  // Create a team of players based on FootbalPlayer struct\n",
    "\tfor i := 0; i < len(team); i++ {\n",
    "\t\tteam[i] = FootbalPlayer{\n",
    "\t\t\tstamina: rand.Intn(10),\n",
    "\t\t\tpower:   rand.Intn(10),\n",
    "\t\t}\n",
    "\t}\n",
    "\n",
    "  // Implement Messi struct\n",
    "\tteam[len(team)-1] = Messi{\n",
    "\t\tstamina: 10,\n",
    "\t\tpower:   10,\n",
    "\t\tSUI:     9,\n",
    "\t}\n",
    "\n",
    "  // Example how interface, structs and methods are working togather\n",
    "\tfor i := 0; i < len(team); i++ {\n",
    "\t\tteam[i].KickBall()\n",
    "\t\tfmt.Printf(\"%s is kicking the ball %d\\n\", team[i].Name(), team[i].KickBall())\n",
    "\t}\n",
    "}\n",
    "}\n"
   ]
  }
 ],
 "metadata": {
  "kernelspec": {
   "display_name": "Go (gonb)",
   "language": "go",
   "name": "gonb"
  },
  "language_info": {
   "codemirror_mode": "",
   "file_extension": ".go",
   "mimetype": "",
   "name": "go",
   "nbconvert_exporter": "",
   "pygments_lexer": "",
   "version": "go1.23.1"
  }
 },
 "nbformat": 4,
 "nbformat_minor": 2
}
